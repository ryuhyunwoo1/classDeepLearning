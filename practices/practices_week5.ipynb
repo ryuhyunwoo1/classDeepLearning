{
  "nbformat": 4,
  "nbformat_minor": 0,
  "metadata": {
    "colab": {
      "provenance": [],
      "collapsed_sections": [
        "ZpRsJtCajraB",
        "paXrhHEQjuwV"
      ],
      "gpuType": "T4",
      "authorship_tag": "ABX9TyMUgavRfbXObtnEIDp6iuXF",
      "include_colab_link": true
    },
    "kernelspec": {
      "name": "python3",
      "display_name": "Python 3"
    },
    "language_info": {
      "name": "python"
    },
    "accelerator": "GPU"
  },
  "cells": [
    {
      "cell_type": "markdown",
      "metadata": {
        "id": "view-in-github",
        "colab_type": "text"
      },
      "source": [
        "<a href=\"https://colab.research.google.com/github/ryuhyunwoo1/classDeepLearning/blob/main/practices/practices_week5.ipynb\" target=\"_parent\"><img src=\"https://colab.research.google.com/assets/colab-badge.svg\" alt=\"Open In Colab\"/></a>"
      ]
    },
    {
      "cell_type": "markdown",
      "source": [
        "# Week 5"
      ],
      "metadata": {
        "id": "RlpI4oKjZnqQ"
      }
    },
    {
      "cell_type": "markdown",
      "source": [
        "## Generalization : The goal of machine learning"
      ],
      "metadata": {
        "id": "ZpRsJtCajraB"
      }
    },
    {
      "cell_type": "markdown",
      "source": [
        "**Optimization(最適化)** refers to the process of adjusting a model to get the best performance possible on the training data\n",
        "\n",
        "**Generalization(一般化)** refers to how well the trained model performs on data it has never seen before\n",
        "\n",
        "The processing of fighting overfitting is called **regularization(正規化)**"
      ],
      "metadata": {
        "id": "YVE0v8LUj6fx"
      }
    },
    {
      "cell_type": "code",
      "source": [
        "# Rare features and suspicious correlations:\n",
        "## Datasets that include rare feature values are highly susceptible to overfitting\n",
        "\n",
        "## Adding white noise channels or all-zeros channels to MNIST\n",
        "from tensorflow.keras.datasets import mnist\n",
        "import numpy as np\n",
        "\n",
        "(train_images, train_labels) , _ = mnist.load_data()\n",
        "train_images = train_images.reshape( (60000, 28 * 28) )\n",
        "train_images = train_images.astype(\"float32\") / 255\n",
        "\n",
        "train_images_with_noise_channels = np.concatenate(\n",
        "    [train_images, np.random.random((len(train_images), 784))], axis = 1)\n",
        "\n",
        "train_images_with_zeros_channels = np.concatenate(\n",
        "    [train_images, np.zeros((len(train_images), 784))], axis = 1)"
      ],
      "metadata": {
        "colab": {
          "base_uri": "https://localhost:8080/"
        },
        "id": "BfN1UPokpOB0",
        "outputId": "7c675a7e-0b68-4bde-fde5-d4e51a824533"
      },
      "execution_count": 1,
      "outputs": [
        {
          "output_type": "stream",
          "name": "stdout",
          "text": [
            "Downloading data from https://storage.googleapis.com/tensorflow/tf-keras-datasets/mnist.npz\n",
            "11490434/11490434 [==============================] - 0s 0us/step\n"
          ]
        }
      ]
    },
    {
      "cell_type": "code",
      "source": [
        "## Training the same model on MNIST data with noise channels or all-zero channels\n",
        "from tensorflow import keras\n",
        "from tensorflow.keras import layers\n",
        "\n",
        "def get_model() :\n",
        "  model = keras.Sequential([\n",
        "      layers.Dense(512, activation = \"relu\"),\n",
        "      layers.Dense(10, activation = \"softmax\")\n",
        "  ])\n",
        "  model.compile(optimizer = \"rmsprop\",\n",
        "                loss = \"sparse_categorical_crossentropy\",\n",
        "                metrics = [\"accuracy\"])\n",
        "  return model\n",
        "\n",
        "model = get_model()\n",
        "history_noise = model.fit(\n",
        "    train_images_with_noise_channels, train_labels,\n",
        "    epochs = 10,\n",
        "    batch_size = 128,\n",
        "    validation_split = 0.2)\n",
        "\n",
        "model = get_model()\n",
        "history_zeros = model.fit(\n",
        "    train_images_with_zeros_channels, train_labels,\n",
        "    epochs = 10,\n",
        "    batch_size = 128,\n",
        "    validation_split = 0.2)"
      ],
      "metadata": {
        "id": "J67yWxD2qpAj"
      },
      "execution_count": null,
      "outputs": []
    },
    {
      "cell_type": "code",
      "source": [
        "## plotting a validation accuracy comparison\n",
        "import matplotlib.pyplot as plt\n",
        "val_acc_noise = history_noise.history[\"val_accuracy\"]\n",
        "val_acc_zeros = history_zeros.history[\"val_accuracy\"]\n",
        "epochs = range(1, 11)\n",
        "plt.plot(epochs, val_acc_noise, \"b-\",\n",
        "         label = \"Validation accuracy with noise channels\")\n",
        "plt.plot(epochs, val_acc_zeros, \"b--\",\n",
        "         label = \"Validation accuracy with zeros channels\")\n",
        "plt.title(\"Effect of noise channels on validation accuracy\")\n",
        "plt.xlabel(\"Epochs\")\n",
        "plt.ylabel(\"Accuracy\")\n",
        "plt.legend()"
      ],
      "metadata": {
        "colab": {
          "base_uri": "https://localhost:8080/",
          "height": 491
        },
        "id": "SJ2jACjCuFDI",
        "outputId": "cb959b69-0ad8-4320-ddd4-f6a187e226df"
      },
      "execution_count": 5,
      "outputs": [
        {
          "output_type": "execute_result",
          "data": {
            "text/plain": [
              "<matplotlib.legend.Legend at 0x7d9fc013e350>"
            ]
          },
          "metadata": {},
          "execution_count": 5
        },
        {
          "output_type": "display_data",
          "data": {
            "text/plain": [
              "<Figure size 640x480 with 1 Axes>"
            ],
            "image/png": "[encoded data removed]"
          },
          "metadata": {}
        }
      ]
    },
    {
      "cell_type": "markdown",
      "source": [
        "## Evaluating machine-learning models"
      ],
      "metadata": {
        "id": "paXrhHEQjuwV"
      }
    },
    {
      "cell_type": "markdown",
      "source": [
        "Tuning *parameters* and *hyperparameters* is a form of *learning*\n",
        "\n",
        "Tuning is based on its performance on validation set\n",
        "\n",
        "Tuning a lot would cause *information leak*\n",
        "\n",
        "Thus, you need never-before-seen test dataset"
      ],
      "metadata": {
        "id": "Gj7QPsQsyzTu"
      }
    },
    {
      "cell_type": "markdown",
      "source": [
        "**Simple hold-out validation**"
      ],
      "metadata": {
        "id": "e70INYJ9zADK"
      }
    },
    {
      "cell_type": "markdown",
      "source": [
        "**K fold validation**"
      ],
      "metadata": {
        "id": "hdBu9RNTzCeB"
      }
    },
    {
      "cell_type": "markdown",
      "source": [
        "## Improving model fit"
      ],
      "metadata": {
        "id": "LyK24t-0jxvK"
      }
    },
    {
      "cell_type": "markdown",
      "source": [
        "To achieve the perfect fit, you must first overfit. Since you don't know in advance where the boundary lies, you must cross it to find it.\n",
        "\n",
        "Once you have such a model, you'll focus on refining generalization by fighting overfitting.\n",
        "\n",
        "Three common problems: 1) training loss doesn't go down, 2) model doesn't meaningfully generalize, 3) training and validation loss both go down but model still underfitting."
      ],
      "metadata": {
        "id": "nK2PBYjX1R6M"
      }
    },
    {
      "cell_type": "code",
      "source": [
        "# Tuning key gradient descent parameters\n",
        "\n",
        "## Training an MNIST model with an incorrectly high learnign late。\n",
        "## 学習率が大きすぎて、過学習になる\n",
        "(train_images, train_labels) , _ = mnist.load_data()\n",
        "train_images = train_images.reshape( (60000, 28 * 28) )\n",
        "train_images = train_images.astype(\"float32\") / 255\n",
        "\n",
        "model = keras.Sequential([\n",
        "    layers.Dense(512, activation = \"relu\"),\n",
        "    layers.Dense(10, activation = \"softmax\")\n",
        "])\n",
        "model.compile(optimizer = keras.optimizers.RMSprop(1.),\n",
        "              loss = \"sparse_categorical_crossentropy\",\n",
        "              metrics = [\"accuracy\"])\n",
        "model.fit(train_images, train_labels,\n",
        "          epochs = 10,\n",
        "          batch_size = 128,\n",
        "          validation_split = 0.2)"
      ],
      "metadata": {
        "colab": {
          "base_uri": "https://localhost:8080/"
        },
        "id": "mKm29NHl14wO",
        "outputId": "d9167649-e10a-416f-e24a-44f9e8e78484"
      },
      "execution_count": 8,
      "outputs": [
        {
          "output_type": "stream",
          "name": "stdout",
          "text": [
            "Epoch 1/10\n",
            "375/375 [==============================] - 2s 4ms/step - loss: 755.2908 - accuracy: 0.2855 - val_loss: 2.1493 - val_accuracy: 0.1673\n",
            "Epoch 2/10\n",
            "375/375 [==============================] - 1s 3ms/step - loss: 3.4372 - accuracy: 0.1932 - val_loss: 5.2838 - val_accuracy: 0.2075\n",
            "Epoch 3/10\n",
            "375/375 [==============================] - 2s 4ms/step - loss: 2.8249 - accuracy: 0.1491 - val_loss: 2.8140 - val_accuracy: 0.2012\n",
            "Epoch 4/10\n",
            "375/375 [==============================] - 1s 3ms/step - loss: 2.5238 - accuracy: 0.1525 - val_loss: 2.2030 - val_accuracy: 0.1733\n",
            "Epoch 5/10\n",
            "375/375 [==============================] - 1s 3ms/step - loss: 2.3789 - accuracy: 0.1867 - val_loss: 2.2176 - val_accuracy: 0.2114\n",
            "Epoch 6/10\n",
            "375/375 [==============================] - 1s 3ms/step - loss: 2.4335 - accuracy: 0.2000 - val_loss: 2.2203 - val_accuracy: 0.1931\n",
            "Epoch 7/10\n",
            "375/375 [==============================] - 1s 3ms/step - loss: 2.3318 - accuracy: 0.1923 - val_loss: 2.2993 - val_accuracy: 0.2086\n",
            "Epoch 8/10\n",
            "375/375 [==============================] - 1s 3ms/step - loss: 2.3172 - accuracy: 0.1956 - val_loss: 2.2811 - val_accuracy: 0.1964\n",
            "Epoch 9/10\n",
            "375/375 [==============================] - 1s 3ms/step - loss: 2.6006 - accuracy: 0.1890 - val_loss: 2.3928 - val_accuracy: 0.2216\n",
            "Epoch 10/10\n",
            "375/375 [==============================] - 1s 3ms/step - loss: 2.3917 - accuracy: 0.2028 - val_loss: 2.3902 - val_accuracy: 0.2402\n"
          ]
        },
        {
          "output_type": "execute_result",
          "data": {
            "text/plain": [
              "<keras.src.callbacks.History at 0x7da021d8c6d0>"
            ]
          },
          "metadata": {},
          "execution_count": 8
        }
      ]
    },
    {
      "cell_type": "code",
      "source": [
        "## The same model with a more appropriate learning rate\n",
        "model = keras.Sequential([\n",
        "    layers.Dense(512, activation = \"relu\"),\n",
        "    layers.Dense(10, activation = \"softmax\")\n",
        "])\n",
        "model.compile(optimizer = keras.optimizers.RMSprop(1e-2),\n",
        "              loss = \"sparse_categorical_crossentropy\",\n",
        "              metrics = [\"accuracy\"])\n",
        "model.fit(train_images, train_labels,\n",
        "          epochs = 10,\n",
        "          batch_size = 128,\n",
        "          validation_split = 0.2)"
      ],
      "metadata": {
        "colab": {
          "base_uri": "https://localhost:8080/"
        },
        "id": "KarnHUSV2xIZ",
        "outputId": "c8476950-cdfd-49d2-ed11-d4904db736d6"
      },
      "execution_count": 9,
      "outputs": [
        {
          "output_type": "stream",
          "name": "stdout",
          "text": [
            "Epoch 1/10\n",
            "375/375 [==============================] - 3s 4ms/step - loss: 0.3519 - accuracy: 0.9114 - val_loss: 0.1640 - val_accuracy: 0.9538\n",
            "Epoch 2/10\n",
            "375/375 [==============================] - 1s 3ms/step - loss: 0.1264 - accuracy: 0.9646 - val_loss: 0.1344 - val_accuracy: 0.9675\n",
            "Epoch 3/10\n",
            "375/375 [==============================] - 2s 4ms/step - loss: 0.0969 - accuracy: 0.9735 - val_loss: 0.1641 - val_accuracy: 0.9629\n",
            "Epoch 4/10\n",
            "375/375 [==============================] - 1s 3ms/step - loss: 0.0813 - accuracy: 0.9792 - val_loss: 0.1426 - val_accuracy: 0.9706\n",
            "Epoch 5/10\n",
            "375/375 [==============================] - 1s 3ms/step - loss: 0.0664 - accuracy: 0.9824 - val_loss: 0.2042 - val_accuracy: 0.9659\n",
            "Epoch 6/10\n",
            "375/375 [==============================] - 1s 3ms/step - loss: 0.0590 - accuracy: 0.9855 - val_loss: 0.1514 - val_accuracy: 0.9730\n",
            "Epoch 7/10\n",
            "375/375 [==============================] - 2s 6ms/step - loss: 0.0508 - accuracy: 0.9878 - val_loss: 0.1902 - val_accuracy: 0.9749\n",
            "Epoch 8/10\n",
            "375/375 [==============================] - 1s 3ms/step - loss: 0.0497 - accuracy: 0.9891 - val_loss: 0.2257 - val_accuracy: 0.9716\n",
            "Epoch 9/10\n",
            "375/375 [==============================] - 1s 3ms/step - loss: 0.0455 - accuracy: 0.9900 - val_loss: 0.2002 - val_accuracy: 0.9753\n",
            "Epoch 10/10\n",
            "375/375 [==============================] - 1s 3ms/step - loss: 0.0359 - accuracy: 0.9918 - val_loss: 0.2146 - val_accuracy: 0.9732\n"
          ]
        },
        {
          "output_type": "execute_result",
          "data": {
            "text/plain": [
              "<keras.src.callbacks.History at 0x7d9fc0917f10>"
            ]
          },
          "metadata": {},
          "execution_count": 9
        }
      ]
    },
    {
      "cell_type": "code",
      "source": [
        "## Using bigger model is better to decrease Loss\n",
        "model = keras.Sequential([\n",
        "    layers.Dense(96, activation=\"relu\"),\n",
        "    layers.Dense(96, activation=\"relu\"),\n",
        "    layers.Dense(10, activation=\"softmax\"),\n",
        "])\n",
        "model.compile(optimizer=\"rmsprop\",\n",
        "              loss=\"sparse_categorical_crossentropy\",\n",
        "              metrics=[\"accuracy\"])\n",
        "history_large_model = model.fit(\n",
        "    train_images, train_labels,\n",
        "    epochs=20,\n",
        "    batch_size=128,\n",
        "    validation_split=0.2)"
      ],
      "metadata": {
        "colab": {
          "base_uri": "https://localhost:8080/"
        },
        "id": "Fj-pwXOO327o",
        "outputId": "de19afb3-cc9b-4230-b51e-cc2a0864d54c"
      },
      "execution_count": 10,
      "outputs": [
        {
          "output_type": "stream",
          "name": "stdout",
          "text": [
            "Epoch 1/20\n",
            "375/375 [==============================] - 2s 4ms/step - loss: 0.3704 - accuracy: 0.8940 - val_loss: 0.2018 - val_accuracy: 0.9402\n",
            "Epoch 2/20\n",
            "375/375 [==============================] - 1s 4ms/step - loss: 0.1659 - accuracy: 0.9506 - val_loss: 0.1507 - val_accuracy: 0.9568\n",
            "Epoch 3/20\n",
            "375/375 [==============================] - 2s 4ms/step - loss: 0.1162 - accuracy: 0.9662 - val_loss: 0.1418 - val_accuracy: 0.9582\n",
            "Epoch 4/20\n",
            "375/375 [==============================] - 1s 3ms/step - loss: 0.0902 - accuracy: 0.9726 - val_loss: 0.1313 - val_accuracy: 0.9623\n",
            "Epoch 5/20\n",
            "375/375 [==============================] - 1s 3ms/step - loss: 0.0715 - accuracy: 0.9783 - val_loss: 0.0988 - val_accuracy: 0.9712\n",
            "Epoch 6/20\n",
            "375/375 [==============================] - 1s 4ms/step - loss: 0.0588 - accuracy: 0.9818 - val_loss: 0.0992 - val_accuracy: 0.9716\n",
            "Epoch 7/20\n",
            "375/375 [==============================] - 1s 3ms/step - loss: 0.0497 - accuracy: 0.9846 - val_loss: 0.0951 - val_accuracy: 0.9737\n",
            "Epoch 8/20\n",
            "375/375 [==============================] - 1s 3ms/step - loss: 0.0413 - accuracy: 0.9868 - val_loss: 0.0998 - val_accuracy: 0.9737\n",
            "Epoch 9/20\n",
            "375/375 [==============================] - 1s 3ms/step - loss: 0.0346 - accuracy: 0.9892 - val_loss: 0.0992 - val_accuracy: 0.9727\n",
            "Epoch 10/20\n",
            "375/375 [==============================] - 1s 4ms/step - loss: 0.0289 - accuracy: 0.9911 - val_loss: 0.0977 - val_accuracy: 0.9751\n",
            "Epoch 11/20\n",
            "375/375 [==============================] - 1s 4ms/step - loss: 0.0248 - accuracy: 0.9924 - val_loss: 0.1022 - val_accuracy: 0.9751\n",
            "Epoch 12/20\n",
            "375/375 [==============================] - 2s 4ms/step - loss: 0.0205 - accuracy: 0.9937 - val_loss: 0.1036 - val_accuracy: 0.9739\n",
            "Epoch 13/20\n",
            "375/375 [==============================] - 1s 3ms/step - loss: 0.0174 - accuracy: 0.9947 - val_loss: 0.1217 - val_accuracy: 0.9724\n",
            "Epoch 14/20\n",
            "375/375 [==============================] - 1s 4ms/step - loss: 0.0151 - accuracy: 0.9958 - val_loss: 0.1120 - val_accuracy: 0.9756\n",
            "Epoch 15/20\n",
            "375/375 [==============================] - 1s 3ms/step - loss: 0.0120 - accuracy: 0.9965 - val_loss: 0.1157 - val_accuracy: 0.9747\n",
            "Epoch 16/20\n",
            "375/375 [==============================] - 1s 3ms/step - loss: 0.0105 - accuracy: 0.9968 - val_loss: 0.1243 - val_accuracy: 0.9740\n",
            "Epoch 17/20\n",
            "375/375 [==============================] - 1s 4ms/step - loss: 0.0091 - accuracy: 0.9971 - val_loss: 0.1195 - val_accuracy: 0.9757\n",
            "Epoch 18/20\n",
            "375/375 [==============================] - 1s 3ms/step - loss: 0.0078 - accuracy: 0.9977 - val_loss: 0.1321 - val_accuracy: 0.9739\n",
            "Epoch 19/20\n",
            "375/375 [==============================] - 1s 3ms/step - loss: 0.0060 - accuracy: 0.9980 - val_loss: 0.1358 - val_accuracy: 0.9745\n",
            "Epoch 20/20\n",
            "375/375 [==============================] - 1s 4ms/step - loss: 0.0060 - accuracy: 0.9981 - val_loss: 0.1366 - val_accuracy: 0.9747\n"
          ]
        }
      ]
    },
    {
      "cell_type": "markdown",
      "source": [
        "## Improving generalization"
      ],
      "metadata": {
        "id": "8M4M51lM5EhR"
      }
    },
    {
      "cell_type": "markdown",
      "source": [
        "### Reducing the network's size"
      ],
      "metadata": {
        "id": "vIVV9bI46uJe"
      }
    },
    {
      "cell_type": "code",
      "source": [
        "# Reducing the network's size\n",
        "## The simplest way to prevent overfitting is to reduce the size of the model\n",
        "\n",
        "from tensorflow.keras.datasets import imdb\n",
        "(train_data, train_labels), _ = imdb.load_data(num_words=10000)\n",
        "\n",
        "def vectorize_sequences(sequences, dimension=10000):\n",
        "    results = np.zeros((len(sequences), dimension))\n",
        "    for i, sequence in enumerate(sequences):\n",
        "        results[i, sequence] = 1.\n",
        "    return results\n",
        "train_data = vectorize_sequences(train_data)\n",
        "\n",
        "model = keras.Sequential([\n",
        "    layers.Dense(16, activation=\"relu\"),\n",
        "    layers.Dense(16, activation=\"relu\"),\n",
        "    layers.Dense(1, activation=\"sigmoid\")\n",
        "])\n",
        "model.compile(optimizer=\"rmsprop\",\n",
        "              loss=\"binary_crossentropy\",\n",
        "              metrics=[\"accuracy\"])\n",
        "history_original = model.fit(train_data, train_labels,\n",
        "                             epochs=20, batch_size=512, validation_split=0.4)"
      ],
      "metadata": {
        "colab": {
          "base_uri": "https://localhost:8080/"
        },
        "id": "4f7aFRsS4Qkv",
        "outputId": "ad873654-0b51-45b1-de1d-afa8785107c9"
      },
      "execution_count": 11,
      "outputs": [
        {
          "output_type": "stream",
          "name": "stdout",
          "text": [
            "Downloading data from https://storage.googleapis.com/tensorflow/tf-keras-datasets/imdb.npz\n",
            "17464789/17464789 [==============================] - 0s 0us/step\n",
            "Epoch 1/20\n",
            "30/30 [==============================] - 3s 66ms/step - loss: 0.5631 - accuracy: 0.7706 - val_loss: 0.4474 - val_accuracy: 0.8481\n",
            "Epoch 2/20\n",
            "30/30 [==============================] - 1s 23ms/step - loss: 0.3656 - accuracy: 0.8879 - val_loss: 0.3372 - val_accuracy: 0.8814\n",
            "Epoch 3/20\n",
            "30/30 [==============================] - 1s 24ms/step - loss: 0.2731 - accuracy: 0.9114 - val_loss: 0.3071 - val_accuracy: 0.8789\n",
            "Epoch 4/20\n",
            "30/30 [==============================] - 1s 24ms/step - loss: 0.2214 - accuracy: 0.9251 - val_loss: 0.3085 - val_accuracy: 0.8742\n",
            "Epoch 5/20\n",
            "30/30 [==============================] - 1s 23ms/step - loss: 0.1867 - accuracy: 0.9385 - val_loss: 0.2750 - val_accuracy: 0.8892\n",
            "Epoch 6/20\n",
            "30/30 [==============================] - 1s 22ms/step - loss: 0.1596 - accuracy: 0.9484 - val_loss: 0.3018 - val_accuracy: 0.8788\n",
            "Epoch 7/20\n",
            "30/30 [==============================] - 1s 25ms/step - loss: 0.1380 - accuracy: 0.9568 - val_loss: 0.2935 - val_accuracy: 0.8831\n",
            "Epoch 8/20\n",
            "30/30 [==============================] - 1s 24ms/step - loss: 0.1222 - accuracy: 0.9609 - val_loss: 0.3633 - val_accuracy: 0.8612\n",
            "Epoch 9/20\n",
            "30/30 [==============================] - 1s 22ms/step - loss: 0.1063 - accuracy: 0.9679 - val_loss: 0.3069 - val_accuracy: 0.8844\n",
            "Epoch 10/20\n",
            "30/30 [==============================] - 1s 31ms/step - loss: 0.0951 - accuracy: 0.9721 - val_loss: 0.3328 - val_accuracy: 0.8796\n",
            "Epoch 11/20\n",
            "30/30 [==============================] - 1s 29ms/step - loss: 0.0830 - accuracy: 0.9773 - val_loss: 0.3551 - val_accuracy: 0.8744\n",
            "Epoch 12/20\n",
            "30/30 [==============================] - 1s 27ms/step - loss: 0.0729 - accuracy: 0.9813 - val_loss: 0.3806 - val_accuracy: 0.8727\n",
            "Epoch 13/20\n",
            "30/30 [==============================] - 1s 22ms/step - loss: 0.0643 - accuracy: 0.9848 - val_loss: 0.3724 - val_accuracy: 0.8789\n",
            "Epoch 14/20\n",
            "30/30 [==============================] - 1s 21ms/step - loss: 0.0578 - accuracy: 0.9862 - val_loss: 0.3950 - val_accuracy: 0.8777\n",
            "Epoch 15/20\n",
            "30/30 [==============================] - 1s 22ms/step - loss: 0.0489 - accuracy: 0.9888 - val_loss: 0.4101 - val_accuracy: 0.8765\n",
            "Epoch 16/20\n",
            "30/30 [==============================] - 1s 22ms/step - loss: 0.0427 - accuracy: 0.9908 - val_loss: 0.4307 - val_accuracy: 0.8751\n",
            "Epoch 17/20\n",
            "30/30 [==============================] - 1s 22ms/step - loss: 0.0369 - accuracy: 0.9935 - val_loss: 0.4528 - val_accuracy: 0.8745\n",
            "Epoch 18/20\n",
            "30/30 [==============================] - 1s 23ms/step - loss: 0.0314 - accuracy: 0.9939 - val_loss: 0.4813 - val_accuracy: 0.8724\n",
            "Epoch 19/20\n",
            "30/30 [==============================] - 1s 25ms/step - loss: 0.0275 - accuracy: 0.9949 - val_loss: 0.4941 - val_accuracy: 0.8729\n",
            "Epoch 20/20\n",
            "30/30 [==============================] - 1s 22ms/step - loss: 0.0228 - accuracy: 0.9968 - val_loss: 0.5322 - val_accuracy: 0.8699\n"
          ]
        }
      ]
    },
    {
      "cell_type": "code",
      "source": [
        "## version of the model with lower capacity\n",
        "model = keras.Sequential([\n",
        "    layers.Dense(4, activation=\"relu\"),\n",
        "    layers.Dense(4, activation=\"relu\"),\n",
        "    layers.Dense(1, activation=\"sigmoid\")\n",
        "])\n",
        "model.compile(optimizer=\"rmsprop\",\n",
        "              loss=\"binary_crossentropy\",\n",
        "              metrics=[\"accuracy\"])\n",
        "history_smaller_model = model.fit(\n",
        "    train_data, train_labels,\n",
        "    epochs=20, batch_size=512, validation_split=0.4)"
      ],
      "metadata": {
        "colab": {
          "base_uri": "https://localhost:8080/"
        },
        "id": "bjMP6zj_4rKU",
        "outputId": "5443e4a2-c9ef-49a3-f1a7-d0ead78df95f"
      },
      "execution_count": 12,
      "outputs": [
        {
          "output_type": "stream",
          "name": "stdout",
          "text": [
            "Epoch 1/20\n",
            "30/30 [==============================] - 3s 74ms/step - loss: 0.5823 - accuracy: 0.7757 - val_loss: 0.4857 - val_accuracy: 0.8567\n",
            "Epoch 2/20\n",
            "30/30 [==============================] - 1s 31ms/step - loss: 0.4183 - accuracy: 0.8851 - val_loss: 0.3923 - val_accuracy: 0.8705\n",
            "Epoch 3/20\n",
            "30/30 [==============================] - 1s 23ms/step - loss: 0.3284 - accuracy: 0.9050 - val_loss: 0.3351 - val_accuracy: 0.8823\n",
            "Epoch 4/20\n",
            "30/30 [==============================] - 1s 45ms/step - loss: 0.2715 - accuracy: 0.9178 - val_loss: 0.3036 - val_accuracy: 0.8879\n",
            "Epoch 5/20\n",
            "30/30 [==============================] - 1s 27ms/step - loss: 0.2308 - accuracy: 0.9299 - val_loss: 0.2868 - val_accuracy: 0.8905\n",
            "Epoch 6/20\n",
            "30/30 [==============================] - 1s 22ms/step - loss: 0.2014 - accuracy: 0.9384 - val_loss: 0.2852 - val_accuracy: 0.8861\n",
            "Epoch 7/20\n",
            "30/30 [==============================] - 1s 22ms/step - loss: 0.1781 - accuracy: 0.9435 - val_loss: 0.2823 - val_accuracy: 0.8873\n",
            "Epoch 8/20\n",
            "30/30 [==============================] - 1s 21ms/step - loss: 0.1589 - accuracy: 0.9514 - val_loss: 0.2764 - val_accuracy: 0.8887\n",
            "Epoch 9/20\n",
            "30/30 [==============================] - 1s 25ms/step - loss: 0.1422 - accuracy: 0.9567 - val_loss: 0.2791 - val_accuracy: 0.8889\n",
            "Epoch 10/20\n",
            "30/30 [==============================] - 1s 23ms/step - loss: 0.1276 - accuracy: 0.9620 - val_loss: 0.2812 - val_accuracy: 0.8882\n",
            "Epoch 11/20\n",
            "30/30 [==============================] - 1s 28ms/step - loss: 0.1164 - accuracy: 0.9671 - val_loss: 0.2903 - val_accuracy: 0.8855\n",
            "Epoch 12/20\n",
            "30/30 [==============================] - 1s 26ms/step - loss: 0.1040 - accuracy: 0.9701 - val_loss: 0.2958 - val_accuracy: 0.8857\n",
            "Epoch 13/20\n",
            "30/30 [==============================] - 1s 29ms/step - loss: 0.0947 - accuracy: 0.9741 - val_loss: 0.3121 - val_accuracy: 0.8834\n",
            "Epoch 14/20\n",
            "30/30 [==============================] - 1s 28ms/step - loss: 0.0852 - accuracy: 0.9781 - val_loss: 0.3178 - val_accuracy: 0.8824\n",
            "Epoch 15/20\n",
            "30/30 [==============================] - 1s 35ms/step - loss: 0.0778 - accuracy: 0.9801 - val_loss: 0.3280 - val_accuracy: 0.8846\n",
            "Epoch 16/20\n",
            "30/30 [==============================] - 1s 44ms/step - loss: 0.0700 - accuracy: 0.9831 - val_loss: 0.3416 - val_accuracy: 0.8826\n",
            "Epoch 17/20\n",
            "30/30 [==============================] - 1s 28ms/step - loss: 0.0631 - accuracy: 0.9862 - val_loss: 0.3535 - val_accuracy: 0.8809\n",
            "Epoch 18/20\n",
            "30/30 [==============================] - 1s 23ms/step - loss: 0.0568 - accuracy: 0.9878 - val_loss: 0.3683 - val_accuracy: 0.8773\n",
            "Epoch 19/20\n",
            "30/30 [==============================] - 1s 25ms/step - loss: 0.0510 - accuracy: 0.9897 - val_loss: 0.3809 - val_accuracy: 0.8790\n",
            "Epoch 20/20\n",
            "30/30 [==============================] - 1s 23ms/step - loss: 0.0460 - accuracy: 0.9909 - val_loss: 0.3957 - val_accuracy: 0.8774\n"
          ]
        }
      ]
    },
    {
      "cell_type": "code",
      "source": [
        "## version of the model with higher capacity, 過学習\n",
        "model = keras.Sequential([\n",
        "    layers.Dense(512, activation=\"relu\"),\n",
        "    layers.Dense(512, activation=\"relu\"),\n",
        "    layers.Dense(1, activation=\"sigmoid\")\n",
        "])\n",
        "model.compile(optimizer=\"rmsprop\",\n",
        "              loss=\"binary_crossentropy\",\n",
        "              metrics=[\"accuracy\"])\n",
        "history_larger_model = model.fit(\n",
        "    train_data, train_labels,\n",
        "    epochs=20, batch_size=512, validation_split=0.4)"
      ],
      "metadata": {
        "colab": {
          "base_uri": "https://localhost:8080/"
        },
        "id": "tPHepwOI4wk_",
        "outputId": "878811ac-2e00-4527-ef65-3d6418d8fc35"
      },
      "execution_count": 13,
      "outputs": [
        {
          "output_type": "stream",
          "name": "stdout",
          "text": [
            "Epoch 1/20\n",
            "30/30 [==============================] - 4s 70ms/step - loss: 0.5733 - accuracy: 0.7179 - val_loss: 0.3481 - val_accuracy: 0.8707\n",
            "Epoch 2/20\n",
            "30/30 [==============================] - 1s 26ms/step - loss: 0.3136 - accuracy: 0.8699 - val_loss: 0.2935 - val_accuracy: 0.8786\n",
            "Epoch 3/20\n",
            "30/30 [==============================] - 1s 28ms/step - loss: 0.2402 - accuracy: 0.9051 - val_loss: 0.2677 - val_accuracy: 0.8893\n",
            "Epoch 4/20\n",
            "30/30 [==============================] - 1s 27ms/step - loss: 0.1873 - accuracy: 0.9278 - val_loss: 0.2807 - val_accuracy: 0.8883\n",
            "Epoch 5/20\n",
            "30/30 [==============================] - 1s 26ms/step - loss: 0.1321 - accuracy: 0.9515 - val_loss: 0.4113 - val_accuracy: 0.8541\n",
            "Epoch 6/20\n",
            "30/30 [==============================] - 1s 26ms/step - loss: 0.0961 - accuracy: 0.9654 - val_loss: 0.8083 - val_accuracy: 0.7683\n",
            "Epoch 7/20\n",
            "30/30 [==============================] - 1s 28ms/step - loss: 0.0825 - accuracy: 0.9707 - val_loss: 0.3446 - val_accuracy: 0.8859\n",
            "Epoch 8/20\n",
            "30/30 [==============================] - 1s 28ms/step - loss: 0.0805 - accuracy: 0.9772 - val_loss: 0.3407 - val_accuracy: 0.8845\n",
            "Epoch 9/20\n",
            "30/30 [==============================] - 1s 27ms/step - loss: 0.0151 - accuracy: 0.9979 - val_loss: 0.5272 - val_accuracy: 0.8666\n",
            "Epoch 10/20\n",
            "30/30 [==============================] - 1s 27ms/step - loss: 0.0616 - accuracy: 0.9819 - val_loss: 0.4471 - val_accuracy: 0.8827\n",
            "Epoch 11/20\n",
            "30/30 [==============================] - 1s 26ms/step - loss: 0.0048 - accuracy: 0.9995 - val_loss: 0.5203 - val_accuracy: 0.8830\n",
            "Epoch 12/20\n",
            "30/30 [==============================] - 1s 33ms/step - loss: 0.1066 - accuracy: 0.9793 - val_loss: 0.4142 - val_accuracy: 0.8837\n",
            "Epoch 13/20\n",
            "30/30 [==============================] - 1s 43ms/step - loss: 0.0040 - accuracy: 0.9999 - val_loss: 0.4979 - val_accuracy: 0.8840\n",
            "Epoch 14/20\n",
            "30/30 [==============================] - 1s 27ms/step - loss: 0.0017 - accuracy: 1.0000 - val_loss: 0.5845 - val_accuracy: 0.8825\n",
            "Epoch 15/20\n",
            "30/30 [==============================] - 1s 28ms/step - loss: 0.0824 - accuracy: 0.9829 - val_loss: 0.4641 - val_accuracy: 0.8762\n",
            "Epoch 16/20\n",
            "30/30 [==============================] - 1s 27ms/step - loss: 0.0035 - accuracy: 1.0000 - val_loss: 0.5109 - val_accuracy: 0.8825\n",
            "Epoch 17/20\n",
            "30/30 [==============================] - 1s 28ms/step - loss: 0.0011 - accuracy: 1.0000 - val_loss: 0.5934 - val_accuracy: 0.8832\n",
            "Epoch 18/20\n",
            "30/30 [==============================] - 1s 26ms/step - loss: 6.2528e-04 - accuracy: 1.0000 - val_loss: 0.6494 - val_accuracy: 0.8839\n",
            "Epoch 19/20\n",
            "30/30 [==============================] - 1s 27ms/step - loss: 4.2155e-04 - accuracy: 1.0000 - val_loss: 0.6831 - val_accuracy: 0.8842\n",
            "Epoch 20/20\n",
            "30/30 [==============================] - 1s 27ms/step - loss: 3.0641e-04 - accuracy: 1.0000 - val_loss: 0.7109 - val_accuracy: 0.8838\n"
          ]
        }
      ]
    },
    {
      "cell_type": "markdown",
      "source": [
        "### **Adding weight regularization**\n",
        "\n",
        "Simpler models are less likely to overfit than complex ones\n"
      ],
      "metadata": {
        "id": "HCuq5UMS5U2M"
      }
    },
    {
      "cell_type": "code",
      "source": [
        "from tensorflow.keras import regularizers\n",
        "model = keras.Sequential([\n",
        "    layers.Dense(16,\n",
        "                 kernel_regularizer = regularizers.l2(0.002),\n",
        "                 activation = \"relu\"),\n",
        "    layers.Dense(16,\n",
        "                 kernel_regularizer = regularizers.l2(0.002),\n",
        "                 activation = \"relu\"),\n",
        "    layers.Dense(1, activation = \"sigmoid\")\n",
        "])"
      ],
      "metadata": {
        "id": "t01hYzhf5fx9"
      },
      "execution_count": 14,
      "outputs": []
    },
    {
      "cell_type": "code",
      "source": [
        "## Different weight regularizers available in Keras\n",
        "from tensorflow.keras import regularizers\n",
        "regularizers.l1(0.001)\n",
        "regularizers.l1_l2(l1=0.001, l2=0.001)"
      ],
      "metadata": {
        "id": "MqxKXzje52x-"
      },
      "execution_count": null,
      "outputs": []
    },
    {
      "cell_type": "markdown",
      "source": [
        "### **Adding dropout**\n",
        "\n",
        "Randomly dropping out (setting to zero) a number of output features of the layer during training"
      ],
      "metadata": {
        "id": "BLU6cXRJ6RdK"
      }
    },
    {
      "cell_type": "code",
      "source": [
        "## 50% dropout\n",
        "model = keras.Sequential([\n",
        "    layers.Dense(16, activation=\"relu\"),\n",
        "    layers.Dropout(0.5),\n",
        "    layers.Dense(16, activation=\"relu\"),\n",
        "    layers.Dropout(0.5),\n",
        "    layers.Dense(1, activation=\"sigmoid\")\n",
        "])\n",
        "model.compile(optimizer=\"rmsprop\",\n",
        "              loss=\"binary_crossentropy\",\n",
        "              metrics=[\"accuracy\"])\n",
        "history_dropout = model.fit(\n",
        "    train_data, train_labels,\n",
        "    epochs=20, batch_size=512, validation_split=0.4)"
      ],
      "metadata": {
        "colab": {
          "base_uri": "https://localhost:8080/"
        },
        "id": "1qAK3r_H6Z4l",
        "outputId": "52482e02-408b-4a41-f1fa-e979b212b66d"
      },
      "execution_count": 16,
      "outputs": [
        {
          "output_type": "stream",
          "name": "stdout",
          "text": [
            "Epoch 1/20\n",
            "30/30 [==============================] - 3s 85ms/step - loss: 0.6553 - accuracy: 0.6081 - val_loss: 0.5650 - val_accuracy: 0.8382\n",
            "Epoch 2/20\n",
            "30/30 [==============================] - 1s 29ms/step - loss: 0.5479 - accuracy: 0.7471 - val_loss: 0.4472 - val_accuracy: 0.8457\n",
            "Epoch 3/20\n",
            "30/30 [==============================] - 1s 25ms/step - loss: 0.4579 - accuracy: 0.8150 - val_loss: 0.3706 - val_accuracy: 0.8662\n",
            "Epoch 4/20\n",
            "30/30 [==============================] - 1s 26ms/step - loss: 0.3959 - accuracy: 0.8536 - val_loss: 0.3209 - val_accuracy: 0.8819\n",
            "Epoch 5/20\n",
            "30/30 [==============================] - 1s 25ms/step - loss: 0.3405 - accuracy: 0.8796 - val_loss: 0.3000 - val_accuracy: 0.8825\n",
            "Epoch 6/20\n",
            "30/30 [==============================] - 1s 23ms/step - loss: 0.2930 - accuracy: 0.9036 - val_loss: 0.2811 - val_accuracy: 0.8892\n",
            "Epoch 7/20\n",
            "30/30 [==============================] - 1s 23ms/step - loss: 0.2624 - accuracy: 0.9152 - val_loss: 0.2763 - val_accuracy: 0.8907\n",
            "Epoch 8/20\n",
            "30/30 [==============================] - 1s 24ms/step - loss: 0.2288 - accuracy: 0.9273 - val_loss: 0.2787 - val_accuracy: 0.8904\n",
            "Epoch 9/20\n",
            "30/30 [==============================] - 1s 24ms/step - loss: 0.2052 - accuracy: 0.9379 - val_loss: 0.2937 - val_accuracy: 0.8879\n",
            "Epoch 10/20\n",
            "30/30 [==============================] - 1s 22ms/step - loss: 0.1869 - accuracy: 0.9431 - val_loss: 0.3015 - val_accuracy: 0.8870\n",
            "Epoch 11/20\n",
            "30/30 [==============================] - 1s 25ms/step - loss: 0.1693 - accuracy: 0.9485 - val_loss: 0.3110 - val_accuracy: 0.8843\n",
            "Epoch 12/20\n",
            "30/30 [==============================] - 1s 25ms/step - loss: 0.1508 - accuracy: 0.9555 - val_loss: 0.3663 - val_accuracy: 0.8838\n",
            "Epoch 13/20\n",
            "30/30 [==============================] - 1s 22ms/step - loss: 0.1365 - accuracy: 0.9585 - val_loss: 0.3606 - val_accuracy: 0.8850\n",
            "Epoch 14/20\n",
            "30/30 [==============================] - 1s 25ms/step - loss: 0.1254 - accuracy: 0.9619 - val_loss: 0.3796 - val_accuracy: 0.8836\n",
            "Epoch 15/20\n",
            "30/30 [==============================] - 1s 22ms/step - loss: 0.1089 - accuracy: 0.9680 - val_loss: 0.4025 - val_accuracy: 0.8830\n",
            "Epoch 16/20\n",
            "30/30 [==============================] - 1s 25ms/step - loss: 0.1037 - accuracy: 0.9691 - val_loss: 0.4374 - val_accuracy: 0.8805\n",
            "Epoch 17/20\n",
            "30/30 [==============================] - 1s 31ms/step - loss: 0.0952 - accuracy: 0.9720 - val_loss: 0.4673 - val_accuracy: 0.8804\n",
            "Epoch 18/20\n",
            "30/30 [==============================] - 1s 31ms/step - loss: 0.0901 - accuracy: 0.9737 - val_loss: 0.4772 - val_accuracy: 0.8796\n",
            "Epoch 19/20\n",
            "30/30 [==============================] - 1s 28ms/step - loss: 0.0828 - accuracy: 0.9755 - val_loss: 0.5232 - val_accuracy: 0.8797\n",
            "Epoch 20/20\n",
            "30/30 [==============================] - 1s 22ms/step - loss: 0.0799 - accuracy: 0.9757 - val_loss: 0.5289 - val_accuracy: 0.8801\n"
          ]
        }
      ]
    }
  ]
}