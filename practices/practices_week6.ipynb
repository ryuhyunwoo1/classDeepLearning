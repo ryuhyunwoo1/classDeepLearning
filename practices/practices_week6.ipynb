{
  "nbformat": 4,
  "nbformat_minor": 0,
  "metadata": {
    "colab": {
      "provenance": [],
      "collapsed_sections": [
        "bqMcml-o-bZ1",
        "nIfoToW4-fbg"
      ],
      "authorship_tag": "ABX9TyNETIAhc1f8xlCRKUFXPxRx",
      "include_colab_link": true
    },
    "kernelspec": {
      "name": "python3",
      "display_name": "Python 3"
    },
    "language_info": {
      "name": "python"
    }
  },
  "cells": [
    {
      "cell_type": "markdown",
      "metadata": {
        "id": "view-in-github",
        "colab_type": "text"
      },
      "source": [
        "<a href=\"https://colab.research.google.com/github/ryuhyunwoo1/classDeepLearning/blob/main/practices/practices_week6.ipynb\" target=\"_parent\"><img src=\"https://colab.research.google.com/assets/colab-badge.svg\" alt=\"Open In Colab\"/></a>"
      ]
    },
    {
      "cell_type": "markdown",
      "source": [
        "# Week 6"
      ],
      "metadata": {
        "id": "DMUIBg9n-NwD"
      }
    },
    {
      "cell_type": "markdown",
      "source": [
        "## The universal workflow of machine learning"
      ],
      "metadata": {
        "id": "XqVpUYnQ-PQ3"
      }
    },
    {
      "cell_type": "markdown",
      "source": [
        "Define the task (業務分析)\n",
        "\n",
        "Develop a model (モデル開発)\n",
        "\n",
        "Deploy the model (モデル使用)"
      ],
      "metadata": {
        "id": "1eRxlN4I-T3R"
      }
    },
    {
      "cell_type": "markdown",
      "source": [
        "## Define the task"
      ],
      "metadata": {
        "id": "bqMcml-o-bZ1"
      }
    },
    {
      "cell_type": "markdown",
      "source": [
        "**１．問題を具体化します。**\n",
        "\n",
        "どんなデータをinputするか\n",
        "\n",
        "予測してほしいのはどんなものか\n",
        "\n",
        "どんなマシンラーニング方法論を使うか\n",
        "\n",
        "制約としてはどんなものがあるか"
      ],
      "metadata": {
        "id": "ebgxLHmA-rjj"
      }
    },
    {
      "cell_type": "markdown",
      "source": [
        "**２．データセットを集めます。**\n",
        "\n",
        "これ一番ムズイ(苦笑)"
      ],
      "metadata": {
        "id": "NENEi12w_dyY"
      }
    },
    {
      "cell_type": "markdown",
      "source": [
        "**３．データを理解します。**\n",
        "\n",
        "データ学習の前に可視化するなど、まず使うデータを理解するのに尽力"
      ],
      "metadata": {
        "id": "m45l0bybAHxF"
      }
    },
    {
      "cell_type": "markdown",
      "source": [
        "**４．成功的な方法を適用**\n"
      ],
      "metadata": {
        "id": "kaih0NxRAfSc"
      }
    },
    {
      "cell_type": "markdown",
      "source": [
        "## Develop a model"
      ],
      "metadata": {
        "id": "nIfoToW4-fbg"
      }
    },
    {
      "cell_type": "markdown",
      "source": [
        "Prepare the data\n",
        "\n",
        "Choose an evaluation protocol\n",
        "\n",
        "Beat a baseline\n",
        "\n",
        "Scale up : Develop a model that overfits\n",
        "\n",
        "Regularize and tune your model"
      ],
      "metadata": {
        "id": "-3Wou_RsAxtk"
      }
    },
    {
      "cell_type": "markdown",
      "source": [
        "## Deploy the model"
      ],
      "metadata": {
        "id": "mhu98yKl-hY-"
      }
    },
    {
      "cell_type": "markdown",
      "source": [
        "Explain your work to stakeholders and set expectations\n",
        "\n",
        "Ship an inference model\n",
        "\n",
        "Monitor your model in the wild\n",
        "\n",
        "Maintain your model"
      ],
      "metadata": {
        "id": "Js6dUXoiA9je"
      }
    }
  ]
}